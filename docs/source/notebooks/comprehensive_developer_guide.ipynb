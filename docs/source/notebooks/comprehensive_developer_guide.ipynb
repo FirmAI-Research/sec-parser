{
    "cells": [
        {
            "cell_type": "code",
            "execution_count": 1,
            "metadata": {
                "nbsphinx": "hidden"
            },
            "outputs": [
                {
                    "data": {
                        "text/html": [
                            "\n",
                            "                <script type=\"application/javascript\" id=\"jupyter_black\">\n",
                            "                (function() {\n",
                            "                    if (window.IPython === undefined) {\n",
                            "                        return\n",
                            "                    }\n",
                            "                    var msg = \"WARNING: it looks like you might have loaded \" +\n",
                            "                        \"jupyter_black in a non-lab notebook with \" +\n",
                            "                        \"`is_lab=True`. Please double check, and if \" +\n",
                            "                        \"loading with `%load_ext` please review the README!\"\n",
                            "                    console.log(msg)\n",
                            "                    alert(msg)\n",
                            "                })()\n",
                            "                </script>\n",
                            "                "
                        ],
                        "text/plain": [
                            "<IPython.core.display.HTML object>"
                        ]
                    },
                    "metadata": {},
                    "output_type": "display_data"
                }
            ],
            "source": [
                "# Note: this cell is hidden from the HTML output. Read more: https://nbsphinx.readthedocs.io/en/0.2.1/hidden-cells.html\n",
                "import jupyter_black\n",
                "\n",
                "jupyter_black.load()"
            ]
        },
        {
            "attachments": {},
            "cell_type": "markdown",
            "metadata": {},
            "source": [
                "# Comprehensive Developer Guide"
            ]
        },
        {
            "attachments": {},
            "cell_type": "markdown",
            "metadata": {},
            "source": [
                "Welcome to the Comprehensive Developer Guide for `sec-parser`. This guide is designed to provide an in-depth understanding of the `sec-parser` project, whether you're a new developer looking to contribute, or an experienced one seeking to leverage its capabilities. We'll walk you through the codebase, explaining key components and their interactions, and provide examples to help you get started. \n",
                "\n",
                "This guide is interactive, allowing you to engage with the code and concepts as you learn. You can run and modify all the code examples shown here for yourself by cloning the repository and running the [comprehensive_developer_guide.ipynb](https://github.com/alphanome-ai/sec-parser/blob/main/docs/source/notebooks/comprehensive_developer_guide.ipynb) in a Jupyter notebook. \n",
                "\n",
                "Alternatively, you can also run the notebook directly in your browser using Google Colab:\n",
                "\n",
                "[![Open In Colab](https://colab.research.google.com/assets/colab-badge.svg)](https://colab.research.google.com/github/alphanome-ai/sec-parser/blob/main/docs/source/notebooks/comprehensive_developer_guide.ipynb)\n",
                "\n",
                "Let's dive in!"
            ]
        },
        {
            "attachments": {},
            "cell_type": "markdown",
            "metadata": {},
            "source": [
                "### → We're using BeautifulSoup\n",
                "Many SEC EDGAR filings are available in HTML document format. To ease the process of reading the documents, we will be using the [BeautifulSoup](https://www.crummy.com/software/BeautifulSoup/bs4/doc/) (\"bs4\") library to parse an HTML document into a tree-like structure of HTML Tags (`bs4.Tag`).\n",
                "\n",
                "### → `HtmlTag` wraps `bs4.Tag`\n",
                "Instead of interacting directly with `bs4.Tag`, the SEC EDGAR HTML Parser uses `HtmlTag`, a wrapper around `bs4.Tag`.\n"
            ]
        },
        {
            "cell_type": "code",
            "execution_count": 2,
            "metadata": {},
            "outputs": [
                {
                    "name": "stdout",
                    "output_type": "stream",
                    "text": [
                        "\n",
                        "    The HtmlTag class is a wrapper for BeautifulSoup4 Tag objects.\n",
                        "\n",
                        "    It serves three main purposes:\n",
                        "\n",
                        "    1. Decoupling: By abstracting the underlying BeautifulSoup4 library, we\n",
                        "       can isolate our application logic from the library specifics. This\n",
                        "       makes it easier to modify or even replace the HTML parsing library in\n",
                        "       the future without extensive codebase changes.\n",
                        "\n",
                        "    2. Usability: The HtmlTag class provides a convenient location to add\n",
                        "       extension methods or additional properties not offered by the native\n",
                        "       BeautifulSoup4 Tag class. This enhances the usability of the class.\n",
                        "\n",
                        "    3. Caching: The HtmlTag class also caches processing results, improving\n",
                        "       performance by avoiding unnecessary re-computation.\n",
                        "    \n",
                        "\n",
                        "    The HtmlTagParser parses an HTML document using BeautifulSoup4.\n",
                        "    It then wraps the parsed bs4.Tag objects into HtmlTag objects.\n",
                        "    \n"
                    ]
                }
            ],
            "source": [
                "from sec_parser.processing_engine import HtmlTag, HtmlTagParser\n",
                "\n",
                "print(HtmlTag.__doc__)\n",
                "print(HtmlTagParser.__doc__)"
            ]
        },
        {
            "attachments": {},
            "cell_type": "markdown",
            "metadata": {},
            "source": [
                "### → What is a Semantic Element?"
            ]
        },
        {
            "cell_type": "code",
            "execution_count": 3,
            "metadata": {},
            "outputs": [
                {
                    "name": "stdout",
                    "output_type": "stream",
                    "text": [
                        "\n",
                        "    In the domain of HTML parsing, especially in the context of SEC EDGAR documents,\n",
                        "    a semantic element refers to a meaningful unit within the document that serves a\n",
                        "    specific purpose. For example, a paragraph or a table might be considered a\n",
                        "    semantic element. Unlike syntactic elements, which merely exist to structure the\n",
                        "    HTML, semantic elements carry information that is vital to the understanding of the\n",
                        "    document's content.\n",
                        "\n",
                        "    This class serves as a foundational representation of such semantic elements,\n",
                        "    containing an HtmlTag object that stores the raw HTML tag information. Subclasses\n",
                        "    will implement additional behaviors based on the type of the semantic element.\n",
                        "    \n"
                    ]
                }
            ],
            "source": [
                "from sec_parser.semantic_elements import AbstractSemanticElement as SemanticElement\n",
                "\n",
                "print(SemanticElement.__doc__)"
            ]
        },
        {
            "attachments": {},
            "cell_type": "markdown",
            "metadata": {},
            "source": [
                "A few examples of Semantic Elements:"
            ]
        },
        {
            "cell_type": "code",
            "execution_count": 10,
            "metadata": {},
            "outputs": [
                {
                    "name": "stdout",
                    "output_type": "stream",
                    "text": [
                        "The TextElement class represents a standard text paragraph within a document.\n",
                        "The TableElement class represents a standard table within a document.\n",
                        "\n",
                        "    The TitleElement class represents the title of a paragraph or other content object.\n",
                        "    It serves as a semantic marker, providing context and structure to the document.\n",
                        "    \n",
                        "\n",
                        "    The TopLevelSectionStartMarker class represents the beginning of a top-level\n",
                        "    section of a document. For instance, in SEC 10-Q reports, a\n",
                        "    top-level section could be \"Part I, Item 3. Quantitative and Qualitative\n",
                        "    Disclosures About Market Risk.\".\n",
                        "    \n",
                        "\n",
                        "    The UndeterminedElement class represents an element whose type\n",
                        "    has not yet been determined. The parsing process aims to\n",
                        "    transform all instances of this class into more specific\n",
                        "    subclasses of AbstractSemanticElement.\n",
                        "    \n"
                    ]
                }
            ],
            "source": [
                "from sec_parser.semantic_elements import (\n",
                "    TextElement,\n",
                "    TableElement,\n",
                "    TitleElement,\n",
                "    TopLevelSectionStartMarker,\n",
                "    UndeterminedElement,\n",
                ")\n",
                "\n",
                "print(TextElement.__doc__)\n",
                "print(TableElement.__doc__)\n",
                "print(TitleElement.__doc__)\n",
                "print(TopLevelSectionStartMarker.__doc__)\n",
                "print(UndeterminedElement.__doc__)"
            ]
        },
        {
            "attachments": {},
            "cell_type": "markdown",
            "metadata": {},
            "source": [
                "To summarize, the purpose of parsing is to produce an ordered list of Semantic Elements from a tree of HTML Tags."
            ]
        },
        {
            "attachments": {},
            "cell_type": "markdown",
            "metadata": {},
            "source": [
                "### → `SemanticElement` wraps `HtmlTag`"
            ]
        },
        {
            "attachments": {},
            "cell_type": "markdown",
            "metadata": {},
            "source": [
                "For simplicity, we mark single `HtmlTag` objects as `SemanticElement` objects. This means that to create a `SemanticElement` object, we simply need to pass a single `HtmlTag` object when creating it."
            ]
        },
        {
            "attachments": {},
            "cell_type": "markdown",
            "metadata": {},
            "source": [
                "### → The Parsing Process"
            ]
        },
        {
            "cell_type": "code",
            "execution_count": 5,
            "metadata": {},
            "outputs": [
                {
                    "name": "stdout",
                    "output_type": "stream",
                    "text": [
                        "\n",
                        "    Responsible for parsing semantic elements from HTML documents.\n",
                        "    It takes raw HTML and returns a list of objects representing semantic elements.\n",
                        "\n",
                        "    At a High Level:\n",
                        "    ==================\n",
                        "    1. Extract top-level HTML tags from the document.\n",
                        "    2. Convert them into a list of more specific semantic elements step-by-step.\n",
                        "\n",
                        "    Why Focus on Top-Level Tags?\n",
                        "    ============================\n",
                        "    SEC filings typically have a flat HTML structure. This simplifies the\n",
                        "    parsing process, as each top-level HTML tag often directly corresponds\n",
                        "    to a single semantic element. This is different from many websites,\n",
                        "    where HTML tags are usually nested deeply, requiring more complex parsing.\n",
                        "\n",
                        "    For Advanced Users:\n",
                        "    ====================\n",
                        "    The parsing process is implemented as a sequence of steps (Pipeline Pattern)\n",
                        "    and allows customization of each step (Strategy Pattern).\n",
                        "\n",
                        "    - Pipeline Pattern: Raw HTML tags are processed in a sequential, step-by-step manner\n",
                        "    - Strategy Pattern: You can either replace, remove, or extend any of the existing\n",
                        "      steps with your own or inherited implementation, or you can replace the entire\n",
                        "      pipeline with your own implementation.\n",
                        "    \n"
                    ]
                }
            ],
            "source": [
                "from sec_parser.processing_engine import AbstractSemanticElementParser\n",
                "\n",
                "print(AbstractSemanticElementParser.__doc__)"
            ]
        },
        {
            "attachments": {},
            "cell_type": "markdown",
            "metadata": {},
            "source": [
                "Example 1: Using the default parsing pipeline:"
            ]
        },
        {
            "cell_type": "code",
            "execution_count": 6,
            "metadata": {},
            "outputs": [],
            "source": [
                "from sec_parser import SecParser\n",
                "\n",
                "parser = SecParser()\n",
                "# parser.parse(html)"
            ]
        },
        {
            "attachments": {},
            "cell_type": "markdown",
            "metadata": {},
            "source": [
                "Example 2: This is a trivial example to demonstrate how a parser without processing steps will just return \n",
                "the \"starting state\", which is each of the `HtmlTag` objects wrapped in a `UndeterminedElement` object."
            ]
        },
        {
            "cell_type": "code",
            "execution_count": 7,
            "metadata": {},
            "outputs": [
                {
                    "data": {
                        "text/plain": [
                            "[UndeterminedElement<img>, UndeterminedElement<img>, UndeterminedElement<img>]"
                        ]
                    },
                    "execution_count": 7,
                    "metadata": {},
                    "output_type": "execute_result"
                }
            ],
            "source": [
                "parser = SecParser(get_steps=lambda: [])\n",
                "parser.parse(\"<img><img><img>\")"
            ]
        },
        {
            "attachments": {},
            "cell_type": "markdown",
            "metadata": {},
            "source": [
                "Example 3: Advanced customization of the pipeline. Suppose `TableParsingStep` is a bottleneck for performance. In that case, you can easily remove it from the pipeline, or swap it out for a custom or inherited alternative. You can even write your own processing steps to have a completely custom parsing pipeline."
            ]
        },
        {
            "cell_type": "code",
            "execution_count": 8,
            "metadata": {},
            "outputs": [],
            "source": [
                "from sec_parser.processing_steps import TableParsingStep\n",
                "\n",
                "\n",
                "def get_steps():\n",
                "    steps = SecParser.get_default_steps()\n",
                "    return [s for s in steps if not isinstance(s, TableParsingStep)]\n",
                "\n",
                "\n",
                "parser = SecParser(get_steps)\n",
                "# parser.parse(html)"
            ]
        },
        {
            "attachments": {},
            "cell_type": "markdown",
            "metadata": {},
            "source": [
                "<!-- ### → TODO: What if multiple semantic elements are in the same HTML tag? -->"
            ]
        },
        {
            "attachments": {},
            "cell_type": "markdown",
            "metadata": {},
            "source": [
                "<!-- ### → TODO: Plugin design -->"
            ]
        },
        {
            "attachments": {},
            "cell_type": "markdown",
            "metadata": {},
            "source": [
                "### → Introduction to the SemanticTree"
            ]
        },
        {
            "cell_type": "code",
            "execution_count": 9,
            "metadata": {},
            "outputs": [
                {
                    "name": "stdout",
                    "output_type": "stream",
                    "text": [
                        "\n",
                        "    Builds a semantic tree from a list of semantic elements.\n",
                        "\n",
                        "    Why Use a Tree Structure?\n",
                        "    =========================\n",
                        "    Using a tree data structure allows for easier and more robust filtering of sections.\n",
                        "    With a tree, you can select specific branches to filter, making it straightforward\n",
                        "    to identify section boundaries. This approach is more maintainable and robust\n",
                        "    compared to attempting the same operations on a flat list of elements.\n",
                        "\n",
                        "    Overview:\n",
                        "    =========\n",
                        "    1. Takes a list of semantic elements.\n",
                        "    2. Applies nesting rules to these elements.\n",
                        "\n",
                        "    Customization:\n",
                        "    ==============\n",
                        "    The nesting process is customizable through a list of rules. These rules determine\n",
                        "    how new elements should be nested under existing ones.\n",
                        "\n",
                        "    Advanced Customization:\n",
                        "    =======================\n",
                        "    You can supply your own set of rules by providing a callable to `get_rules`, which\n",
                        "    should return a list of `AbstractNestingRule` instances.\n",
                        "    \n"
                    ]
                }
            ],
            "source": [
                "from sec_parser.semantic_tree import TreeBuilder\n",
                "\n",
                "print(TreeBuilder.__doc__)"
            ]
        }
    ],
    "metadata": {
        "kernelspec": {
            "display_name": ".venv",
            "language": "python",
            "name": "python3"
        },
        "language_info": {
            "codemirror_mode": {
                "name": "ipython",
                "version": 3
            },
            "file_extension": ".py",
            "mimetype": "text/x-python",
            "name": "python",
            "nbconvert_exporter": "python",
            "pygments_lexer": "ipython3",
            "version": "3.11.4"
        },
        "orig_nbformat": 4
    },
    "nbformat": 4,
    "nbformat_minor": 2
}
