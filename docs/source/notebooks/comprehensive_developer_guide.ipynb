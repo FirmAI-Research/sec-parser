{
 "cells": [
  {
   "attachments": {},
   "cell_type": "markdown",
   "metadata": {},
   "source": [
    "# Comprehensive Developer Guide"
   ]
  },
  {
   "attachments": {},
   "cell_type": "markdown",
   "metadata": {},
   "source": [
    "Welcome to the Comprehensive Developer Guide for `sec-parser`. This guide is designed to provide an in-depth understanding of the `sec-parser` project, whether you're a new developer looking to contribute, or an experienced one seeking to leverage its capabilities. We'll walk you through the codebase, explaining key components and their interactions, and provide examples to help you get started. \n",
    "\n",
    "This guide is interactive, allowing you to engage with the code and concepts as you learn. You can run and modify all the code examples shown here for yourself by cloning the repository and running the [comprehensive_developer_guide.ipynb](https://github.com/alphanome-ai/sec-parser/blob/main/docs/source/notebooks/comprehensive_developer_guide.ipynb) in a Jupyter notebook. \n",
    "\n",
    "Alternatively, you can also run the notebook directly in your browser using Google Colab:\n",
    "\n",
    "[![Open In Colab](https://colab.research.google.com/assets/colab-badge.svg)](https://colab.research.google.com/github/alphanome-ai/sec-parser/blob/main/docs/source/notebooks/comprehensive_developer_guide.ipynb)\n",
    "\n",
    "Let's dive in!"
   ]
  },
  {
   "attachments": {},
   "cell_type": "markdown",
   "metadata": {},
   "source": [
    "#### We're using BeautifulSoup\n",
    "Most human-readable SEC EDGAR Reports are formatted as HTML documents. To ease the process of reading the documents, we will be using the [BeautifulSoup](https://www.crummy.com/software/BeautifulSoup/bs4/doc/) (\"bs4\") library to parse an HTML document into a tree-like structure of HTML Tags (`bs4.Tag`).\n",
    "\n",
    "#### `HtmlTag` wraps `bs4.Tag`\n",
    "Instead of interacting directly with `bs4.Tag`, the SEC EDGAR HTML Parser uses `HtmlTag`, a wrapper around `bs4.Tag`.\n"
   ]
  },
  {
   "cell_type": "code",
   "execution_count": 1,
   "metadata": {},
   "outputs": [
    {
     "name": "stdout",
     "output_type": "stream",
     "text": [
      "\n",
      "    The HtmlTag class is a wrapper for BeautifulSoup4 Tag objects.\n",
      "\n",
      "    It serves three main purposes:\n",
      "\n",
      "    1. Decoupling: By abstracting the underlying BeautifulSoup4 library, we\n",
      "       can isolate our application logic from the library specifics. This\n",
      "       makes it easier to modify or even replace the HTML parsing library in\n",
      "       the future without extensive codebase changes.\n",
      "\n",
      "    2. Usability: The HtmlTag class provides a convenient location to add\n",
      "       extension methods or additional properties not offered by the native\n",
      "       BeautifulSoup4 Tag class. This enhances the usability of the class.\n",
      "\n",
      "    3. Caching: The HtmlTag class also caches processing results, improving\n",
      "       performance by avoiding unnecessary re-computation.\n",
      "    \n",
      "\n",
      "    The HtmlTagParser parses an HTML document using BeautifulSoup4.\n",
      "    It then wraps the parsed bs4.Tag objects into HtmlTag objects.\n",
      "    \n"
     ]
    }
   ],
   "source": [
    "from sec_parser.processing_engine import HtmlTag, HtmlTagParser\n",
    "\n",
    "print(HtmlTag.__doc__)\n",
    "print(HtmlTagParser.__doc__)"
   ]
  },
  {
   "attachments": {},
   "cell_type": "markdown",
   "metadata": {},
   "source": [
    "#### What is a Semantic Element?"
   ]
  },
  {
   "cell_type": "code",
   "execution_count": 10,
   "metadata": {},
   "outputs": [
    {
     "name": "stdout",
     "output_type": "stream",
     "text": [
      "\n",
      "    In the domain of HTML parsing, especially in the context of SEC EDGAR documents,\n",
      "    a semantic element refers to a meaningful unit within the document that serves a\n",
      "    specific purpose. For example, a paragraph or a table might be considered a\n",
      "    semantic element. Unlike syntactic elements, which merely exist to structure the\n",
      "    HTML, semantic elements carry information that is vital to the understanding of the\n",
      "    document's content.\n",
      "\n",
      "    This class serves as a foundational representation of such semantic elements,\n",
      "    containing an HtmlTag object that stores the raw HTML tag information. Subclasses\n",
      "    will implement additional behaviors based on the type of the semantic element.\n",
      "    \n"
     ]
    }
   ],
   "source": [
    "from sec_parser.semantic_elements import AbstractSemanticElement as SemanticElement\n",
    "\n",
    "print(SemanticElement.__doc__)"
   ]
  },
  {
   "attachments": {},
   "cell_type": "markdown",
   "metadata": {},
   "source": [
    "A few examples:"
   ]
  },
  {
   "cell_type": "code",
   "execution_count": 8,
   "metadata": {},
   "outputs": [
    {
     "name": "stdout",
     "output_type": "stream",
     "text": [
      "The TextElement class represents a standard text paragraph within a document.\n",
      "The TableElement class represents a standard table within a document.\n"
     ]
    }
   ],
   "source": [
    "from sec_parser.semantic_elements import TextElement, TableElement\n",
    "\n",
    "print(TextElement.__doc__)\n",
    "print(TableElement.__doc__)"
   ]
  },
  {
   "attachments": {},
   "cell_type": "markdown",
   "metadata": {},
   "source": [
    "To summarize, the purpose of parsing is to produce an ordered list of Semantic Elements from a tree of HTML Tags."
   ]
  },
  {
   "attachments": {},
   "cell_type": "markdown",
   "metadata": {},
   "source": [
    "#### `SemanticElement` wraps `HtmlTag`"
   ]
  }
 ],
 "metadata": {
  "kernelspec": {
   "display_name": ".venv",
   "language": "python",
   "name": "python3"
  },
  "language_info": {
   "codemirror_mode": {
    "name": "ipython",
    "version": 3
   },
   "file_extension": ".py",
   "mimetype": "text/x-python",
   "name": "python",
   "nbconvert_exporter": "python",
   "pygments_lexer": "ipython3",
   "version": "3.11.4"
  },
  "orig_nbformat": 4
 },
 "nbformat": 4,
 "nbformat_minor": 2
}
