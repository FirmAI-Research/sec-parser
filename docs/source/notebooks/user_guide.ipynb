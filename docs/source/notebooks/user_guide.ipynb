{
    "cells": [
        {
            "cell_type": "code",
            "execution_count": 1,
            "metadata": {
                "nbsphinx": "hidden"
            },
            "outputs": [
                {
                    "data": {
                        "text/html": [
                            "\n",
                            "                <script type=\"application/javascript\" id=\"jupyter_black\">\n",
                            "                (function() {\n",
                            "                    if (window.IPython === undefined) {\n",
                            "                        return\n",
                            "                    }\n",
                            "                    var msg = \"WARNING: it looks like you might have loaded \" +\n",
                            "                        \"jupyter_black in a non-lab notebook with \" +\n",
                            "                        \"`is_lab=True`. Please double check, and if \" +\n",
                            "                        \"loading with `%load_ext` please review the README!\"\n",
                            "                    console.log(msg)\n",
                            "                    alert(msg)\n",
                            "                })()\n",
                            "                </script>\n",
                            "                "
                        ],
                        "text/plain": [
                            "<IPython.core.display.HTML object>"
                        ]
                    },
                    "metadata": {},
                    "output_type": "display_data"
                }
            ],
            "source": [
                "# This will auto-format your code. You can optionally install 'jupyter-black' using pip.\n",
                "# Note: this cell is hidden from the HTML output. Read more: https://nbsphinx.readthedocs.io/en/0.2.1/hidden-cells.html\n",
                "try:\n",
                "    import jupyter_black\n",
                "    jupyter_black.load()\n",
                "except ImportError:\n",
                "    pass"
            ]
        },
        {
            "attachments": {},
            "cell_type": "markdown",
            "metadata": {},
            "source": [
                "# User Guide: Quick Start"
            ]
        },
        {
            "attachments": {},
            "cell_type": "markdown",
            "metadata": {},
            "source": [
                "Welcome to the User Guide for `sec-parser`! This guide is designed to walk you through the fundamental steps needed to install and use the library for parsing SEC EDGAR HTML documents into semantic elements and trees. Whether you're a financial analyst, a data scientist, or someone interested in SEC filings, this guide provides examples and code snippets to help you get started.\n",
                "\n",
                "This guide is interactive, allowing you to engage with the code and concepts as you learn. You can run and modify all the code examples shown here for yourself by cloning the repository and running the [user_guide.ipynb](https://github.com/alphanome-ai/sec-parser/blob/main/docs/source/notebooks/user_guide.ipynb) in a Jupyter notebook.\n",
                "\n",
                "Alternatively, you can also run the notebook directly in your browser using Google Colab:\n",
                "\n",
                "[![Open In Colab](https://colab.research.google.com/assets/colab-badge.svg)](https://colab.research.google.com/github/alphanome-ai/sec-parser/blob/main/docs/source/notebooks/user_guide.ipynb)\n",
                "[![My Binder](https://mybinder.org/badge.svg)](https://mybinder.org/v2/gh/alphanome-ai/sec-parser/main?filepath=docs/source/notebooks/user_guide.ipynb)\n",
                "[![Kaggle](https://kaggle.com/static/images/open-in-kaggle.svg)](https://www.kaggle.com/kernels/welcome?src=https://github.com/alphanome-ai/sec-parser/blob/main/docs/source/notebooks/user_guide.ipynb)\n",
                "[![Open in SageMaker Studio Lab](https://studiolab.sagemaker.aws/studiolab.svg)](https://studiolab.sagemaker.aws/import/github/https://github.com/alphanome-ai/sec-parser/blob/main/docs/source/notebooks/user_guide.ipynb)\n",
                "\n",
                "Let's get started!"
            ]
        },
        {
            "attachments": {},
            "cell_type": "markdown",
            "metadata": {},
            "source": [
                "## Getting Started"
            ]
        },
        {
            "attachments": {},
            "cell_type": "markdown",
            "metadata": {},
            "source": [
                "This guide will walk you through the process of installing the `sec-parser` package and using it to extract the \"Segment Operating Performance\" section as a semantic tree from the latest Apple 10-Q filing."
            ]
        },
        {
            "attachments": {},
            "cell_type": "markdown",
            "metadata": {},
            "source": [
                "### Installation"
            ]
        },
        {
            "attachments": {},
            "cell_type": "markdown",
            "metadata": {},
            "source": [
                "First, install the `sec-parser` package using pip:"
            ]
        },
        {
            "cell_type": "code",
            "execution_count": 2,
            "metadata": {},
            "outputs": [],
            "source": [
                "try:\n",
                "    import sec_parser\n",
                "except ImportError:\n",
                "    !pip install -q sec-parser\n",
                "    import sec_parser"
            ]
        },
        {
            "attachments": {},
            "cell_type": "markdown",
            "metadata": {},
            "source": [
                "In order to run the example code in this Guide, you'll also need the `sec_downloader` package:"
            ]
        },
        {
            "cell_type": "code",
            "execution_count": 3,
            "metadata": {},
            "outputs": [],
            "source": [
                "import os\n",
                "\n",
                "try:\n",
                "    import sec_downloader\n",
                "except ImportError:\n",
                "    !pip install -q sec-downloader\n",
                "    import sec_downloader"
            ]
        },
        {
            "attachments": {},
            "cell_type": "markdown",
            "metadata": {},
            "source": [
                "### Usage"
            ]
        },
        {
            "attachments": {},
            "cell_type": "markdown",
            "metadata": {},
            "source": [
                "Once you've installed the necessary packages, you can start by downloading the filing from the SEC EDGAR website. Here's how you can do it:"
            ]
        },
        {
            "cell_type": "code",
            "execution_count": 4,
            "metadata": {},
            "outputs": [
                {
                    "ename": "ConnectionError",
                    "evalue": "HTTPSConnectionPool(host='www.sec.gov', port=443): Max retries exceeded with url: /files/company_tickers_exchange.json (Caused by NewConnectionError('<urllib3.connection.HTTPSConnection object at 0x105cd0610>: Failed to establish a new connection: [Errno 61] Connection refused'))",
                    "output_type": "error",
                    "traceback": [
                        "\u001b[0;31m---------------------------------------------------------------------------\u001b[0m",
                        "\u001b[0;31mConnectionRefusedError\u001b[0m                    Traceback (most recent call last)",
                        "File \u001b[0;32m~/Development/sec-parser/.venv/lib/python3.11/site-packages/urllib3/connection.py:203\u001b[0m, in \u001b[0;36mHTTPConnection._new_conn\u001b[0;34m(self)\u001b[0m\n\u001b[1;32m    202\u001b[0m \u001b[39mtry\u001b[39;00m:\n\u001b[0;32m--> 203\u001b[0m     sock \u001b[39m=\u001b[39m connection\u001b[39m.\u001b[39;49mcreate_connection(\n\u001b[1;32m    204\u001b[0m         (\u001b[39mself\u001b[39;49m\u001b[39m.\u001b[39;49m_dns_host, \u001b[39mself\u001b[39;49m\u001b[39m.\u001b[39;49mport),\n\u001b[1;32m    205\u001b[0m         \u001b[39mself\u001b[39;49m\u001b[39m.\u001b[39;49mtimeout,\n\u001b[1;32m    206\u001b[0m         source_address\u001b[39m=\u001b[39;49m\u001b[39mself\u001b[39;49m\u001b[39m.\u001b[39;49msource_address,\n\u001b[1;32m    207\u001b[0m         socket_options\u001b[39m=\u001b[39;49m\u001b[39mself\u001b[39;49m\u001b[39m.\u001b[39;49msocket_options,\n\u001b[1;32m    208\u001b[0m     )\n\u001b[1;32m    209\u001b[0m \u001b[39mexcept\u001b[39;00m socket\u001b[39m.\u001b[39mgaierror \u001b[39mas\u001b[39;00m e:\n",
                        "File \u001b[0;32m~/Development/sec-parser/.venv/lib/python3.11/site-packages/urllib3/util/connection.py:85\u001b[0m, in \u001b[0;36mcreate_connection\u001b[0;34m(address, timeout, source_address, socket_options)\u001b[0m\n\u001b[1;32m     84\u001b[0m \u001b[39mtry\u001b[39;00m:\n\u001b[0;32m---> 85\u001b[0m     \u001b[39mraise\u001b[39;00m err\n\u001b[1;32m     86\u001b[0m \u001b[39mfinally\u001b[39;00m:\n\u001b[1;32m     87\u001b[0m     \u001b[39m# Break explicitly a reference cycle\u001b[39;00m\n",
                        "File \u001b[0;32m~/Development/sec-parser/.venv/lib/python3.11/site-packages/urllib3/util/connection.py:73\u001b[0m, in \u001b[0;36mcreate_connection\u001b[0;34m(address, timeout, source_address, socket_options)\u001b[0m\n\u001b[1;32m     72\u001b[0m     sock\u001b[39m.\u001b[39mbind(source_address)\n\u001b[0;32m---> 73\u001b[0m sock\u001b[39m.\u001b[39;49mconnect(sa)\n\u001b[1;32m     74\u001b[0m \u001b[39m# Break explicitly a reference cycle\u001b[39;00m\n",
                        "\u001b[0;31mConnectionRefusedError\u001b[0m: [Errno 61] Connection refused",
                        "\nThe above exception was the direct cause of the following exception:\n",
                        "\u001b[0;31mNewConnectionError\u001b[0m                        Traceback (most recent call last)",
                        "File \u001b[0;32m~/Development/sec-parser/.venv/lib/python3.11/site-packages/urllib3/connectionpool.py:791\u001b[0m, in \u001b[0;36mHTTPConnectionPool.urlopen\u001b[0;34m(self, method, url, body, headers, retries, redirect, assert_same_host, timeout, pool_timeout, release_conn, chunked, body_pos, preload_content, decode_content, **response_kw)\u001b[0m\n\u001b[1;32m    790\u001b[0m \u001b[39m# Make the request on the HTTPConnection object\u001b[39;00m\n\u001b[0;32m--> 791\u001b[0m response \u001b[39m=\u001b[39m \u001b[39mself\u001b[39;49m\u001b[39m.\u001b[39;49m_make_request(\n\u001b[1;32m    792\u001b[0m     conn,\n\u001b[1;32m    793\u001b[0m     method,\n\u001b[1;32m    794\u001b[0m     url,\n\u001b[1;32m    795\u001b[0m     timeout\u001b[39m=\u001b[39;49mtimeout_obj,\n\u001b[1;32m    796\u001b[0m     body\u001b[39m=\u001b[39;49mbody,\n\u001b[1;32m    797\u001b[0m     headers\u001b[39m=\u001b[39;49mheaders,\n\u001b[1;32m    798\u001b[0m     chunked\u001b[39m=\u001b[39;49mchunked,\n\u001b[1;32m    799\u001b[0m     retries\u001b[39m=\u001b[39;49mretries,\n\u001b[1;32m    800\u001b[0m     response_conn\u001b[39m=\u001b[39;49mresponse_conn,\n\u001b[1;32m    801\u001b[0m     preload_content\u001b[39m=\u001b[39;49mpreload_content,\n\u001b[1;32m    802\u001b[0m     decode_content\u001b[39m=\u001b[39;49mdecode_content,\n\u001b[1;32m    803\u001b[0m     \u001b[39m*\u001b[39;49m\u001b[39m*\u001b[39;49mresponse_kw,\n\u001b[1;32m    804\u001b[0m )\n\u001b[1;32m    806\u001b[0m \u001b[39m# Everything went great!\u001b[39;00m\n",
                        "File \u001b[0;32m~/Development/sec-parser/.venv/lib/python3.11/site-packages/urllib3/connectionpool.py:492\u001b[0m, in \u001b[0;36mHTTPConnectionPool._make_request\u001b[0;34m(self, conn, method, url, body, headers, retries, timeout, chunked, response_conn, preload_content, decode_content, enforce_content_length)\u001b[0m\n\u001b[1;32m    491\u001b[0m         new_e \u001b[39m=\u001b[39m _wrap_proxy_error(new_e, conn\u001b[39m.\u001b[39mproxy\u001b[39m.\u001b[39mscheme)\n\u001b[0;32m--> 492\u001b[0m     \u001b[39mraise\u001b[39;00m new_e\n\u001b[1;32m    494\u001b[0m \u001b[39m# conn.request() calls http.client.*.request, not the method in\u001b[39;00m\n\u001b[1;32m    495\u001b[0m \u001b[39m# urllib3.request. It also calls makefile (recv) on the socket.\u001b[39;00m\n",
                        "File \u001b[0;32m~/Development/sec-parser/.venv/lib/python3.11/site-packages/urllib3/connectionpool.py:468\u001b[0m, in \u001b[0;36mHTTPConnectionPool._make_request\u001b[0;34m(self, conn, method, url, body, headers, retries, timeout, chunked, response_conn, preload_content, decode_content, enforce_content_length)\u001b[0m\n\u001b[1;32m    467\u001b[0m \u001b[39mtry\u001b[39;00m:\n\u001b[0;32m--> 468\u001b[0m     \u001b[39mself\u001b[39;49m\u001b[39m.\u001b[39;49m_validate_conn(conn)\n\u001b[1;32m    469\u001b[0m \u001b[39mexcept\u001b[39;00m (SocketTimeout, BaseSSLError) \u001b[39mas\u001b[39;00m e:\n",
                        "File \u001b[0;32m~/Development/sec-parser/.venv/lib/python3.11/site-packages/urllib3/connectionpool.py:1097\u001b[0m, in \u001b[0;36mHTTPSConnectionPool._validate_conn\u001b[0;34m(self, conn)\u001b[0m\n\u001b[1;32m   1096\u001b[0m \u001b[39mif\u001b[39;00m conn\u001b[39m.\u001b[39mis_closed:\n\u001b[0;32m-> 1097\u001b[0m     conn\u001b[39m.\u001b[39;49mconnect()\n\u001b[1;32m   1099\u001b[0m \u001b[39mif\u001b[39;00m \u001b[39mnot\u001b[39;00m conn\u001b[39m.\u001b[39mis_verified:\n",
                        "File \u001b[0;32m~/Development/sec-parser/.venv/lib/python3.11/site-packages/urllib3/connection.py:611\u001b[0m, in \u001b[0;36mHTTPSConnection.connect\u001b[0;34m(self)\u001b[0m\n\u001b[1;32m    610\u001b[0m sock: socket\u001b[39m.\u001b[39msocket \u001b[39m|\u001b[39m ssl\u001b[39m.\u001b[39mSSLSocket\n\u001b[0;32m--> 611\u001b[0m \u001b[39mself\u001b[39m\u001b[39m.\u001b[39msock \u001b[39m=\u001b[39m sock \u001b[39m=\u001b[39m \u001b[39mself\u001b[39;49m\u001b[39m.\u001b[39;49m_new_conn()\n\u001b[1;32m    612\u001b[0m server_hostname: \u001b[39mstr\u001b[39m \u001b[39m=\u001b[39m \u001b[39mself\u001b[39m\u001b[39m.\u001b[39mhost\n",
                        "File \u001b[0;32m~/Development/sec-parser/.venv/lib/python3.11/site-packages/urllib3/connection.py:218\u001b[0m, in \u001b[0;36mHTTPConnection._new_conn\u001b[0;34m(self)\u001b[0m\n\u001b[1;32m    217\u001b[0m \u001b[39mexcept\u001b[39;00m \u001b[39mOSError\u001b[39;00m \u001b[39mas\u001b[39;00m e:\n\u001b[0;32m--> 218\u001b[0m     \u001b[39mraise\u001b[39;00m NewConnectionError(\n\u001b[1;32m    219\u001b[0m         \u001b[39mself\u001b[39m, \u001b[39mf\u001b[39m\u001b[39m\"\u001b[39m\u001b[39mFailed to establish a new connection: \u001b[39m\u001b[39m{\u001b[39;00me\u001b[39m}\u001b[39;00m\u001b[39m\"\u001b[39m\n\u001b[1;32m    220\u001b[0m     ) \u001b[39mfrom\u001b[39;00m \u001b[39me\u001b[39;00m\n\u001b[1;32m    222\u001b[0m \u001b[39m# Audit hooks are only available in Python 3.8+\u001b[39;00m\n",
                        "\u001b[0;31mNewConnectionError\u001b[0m: <urllib3.connection.HTTPSConnection object at 0x105cd0610>: Failed to establish a new connection: [Errno 61] Connection refused",
                        "\nThe above exception was the direct cause of the following exception:\n",
                        "\u001b[0;31mMaxRetryError\u001b[0m                             Traceback (most recent call last)",
                        "File \u001b[0;32m~/Development/sec-parser/.venv/lib/python3.11/site-packages/requests/adapters.py:486\u001b[0m, in \u001b[0;36mHTTPAdapter.send\u001b[0;34m(self, request, stream, timeout, verify, cert, proxies)\u001b[0m\n\u001b[1;32m    485\u001b[0m \u001b[39mtry\u001b[39;00m:\n\u001b[0;32m--> 486\u001b[0m     resp \u001b[39m=\u001b[39m conn\u001b[39m.\u001b[39;49murlopen(\n\u001b[1;32m    487\u001b[0m         method\u001b[39m=\u001b[39;49mrequest\u001b[39m.\u001b[39;49mmethod,\n\u001b[1;32m    488\u001b[0m         url\u001b[39m=\u001b[39;49murl,\n\u001b[1;32m    489\u001b[0m         body\u001b[39m=\u001b[39;49mrequest\u001b[39m.\u001b[39;49mbody,\n\u001b[1;32m    490\u001b[0m         headers\u001b[39m=\u001b[39;49mrequest\u001b[39m.\u001b[39;49mheaders,\n\u001b[1;32m    491\u001b[0m         redirect\u001b[39m=\u001b[39;49m\u001b[39mFalse\u001b[39;49;00m,\n\u001b[1;32m    492\u001b[0m         assert_same_host\u001b[39m=\u001b[39;49m\u001b[39mFalse\u001b[39;49;00m,\n\u001b[1;32m    493\u001b[0m         preload_content\u001b[39m=\u001b[39;49m\u001b[39mFalse\u001b[39;49;00m,\n\u001b[1;32m    494\u001b[0m         decode_content\u001b[39m=\u001b[39;49m\u001b[39mFalse\u001b[39;49;00m,\n\u001b[1;32m    495\u001b[0m         retries\u001b[39m=\u001b[39;49m\u001b[39mself\u001b[39;49m\u001b[39m.\u001b[39;49mmax_retries,\n\u001b[1;32m    496\u001b[0m         timeout\u001b[39m=\u001b[39;49mtimeout,\n\u001b[1;32m    497\u001b[0m         chunked\u001b[39m=\u001b[39;49mchunked,\n\u001b[1;32m    498\u001b[0m     )\n\u001b[1;32m    500\u001b[0m \u001b[39mexcept\u001b[39;00m (ProtocolError, \u001b[39mOSError\u001b[39;00m) \u001b[39mas\u001b[39;00m err:\n",
                        "File \u001b[0;32m~/Development/sec-parser/.venv/lib/python3.11/site-packages/urllib3/connectionpool.py:845\u001b[0m, in \u001b[0;36mHTTPConnectionPool.urlopen\u001b[0;34m(self, method, url, body, headers, retries, redirect, assert_same_host, timeout, pool_timeout, release_conn, chunked, body_pos, preload_content, decode_content, **response_kw)\u001b[0m\n\u001b[1;32m    843\u001b[0m     new_e \u001b[39m=\u001b[39m ProtocolError(\u001b[39m\"\u001b[39m\u001b[39mConnection aborted.\u001b[39m\u001b[39m\"\u001b[39m, new_e)\n\u001b[0;32m--> 845\u001b[0m retries \u001b[39m=\u001b[39m retries\u001b[39m.\u001b[39;49mincrement(\n\u001b[1;32m    846\u001b[0m     method, url, error\u001b[39m=\u001b[39;49mnew_e, _pool\u001b[39m=\u001b[39;49m\u001b[39mself\u001b[39;49m, _stacktrace\u001b[39m=\u001b[39;49msys\u001b[39m.\u001b[39;49mexc_info()[\u001b[39m2\u001b[39;49m]\n\u001b[1;32m    847\u001b[0m )\n\u001b[1;32m    848\u001b[0m retries\u001b[39m.\u001b[39msleep()\n",
                        "File \u001b[0;32m~/Development/sec-parser/.venv/lib/python3.11/site-packages/urllib3/util/retry.py:515\u001b[0m, in \u001b[0;36mRetry.increment\u001b[0;34m(self, method, url, response, error, _pool, _stacktrace)\u001b[0m\n\u001b[1;32m    514\u001b[0m     reason \u001b[39m=\u001b[39m error \u001b[39mor\u001b[39;00m ResponseError(cause)\n\u001b[0;32m--> 515\u001b[0m     \u001b[39mraise\u001b[39;00m MaxRetryError(_pool, url, reason) \u001b[39mfrom\u001b[39;00m \u001b[39mreason\u001b[39;00m  \u001b[39m# type: ignore[arg-type]\u001b[39;00m\n\u001b[1;32m    517\u001b[0m log\u001b[39m.\u001b[39mdebug(\u001b[39m\"\u001b[39m\u001b[39mIncremented Retry for (url=\u001b[39m\u001b[39m'\u001b[39m\u001b[39m%s\u001b[39;00m\u001b[39m'\u001b[39m\u001b[39m): \u001b[39m\u001b[39m%r\u001b[39;00m\u001b[39m\"\u001b[39m, url, new_retry)\n",
                        "\u001b[0;31mMaxRetryError\u001b[0m: HTTPSConnectionPool(host='www.sec.gov', port=443): Max retries exceeded with url: /files/company_tickers_exchange.json (Caused by NewConnectionError('<urllib3.connection.HTTPSConnection object at 0x105cd0610>: Failed to establish a new connection: [Errno 61] Connection refused'))",
                        "\nDuring handling of the above exception, another exception occurred:\n",
                        "\u001b[0;31mConnectionError\u001b[0m                           Traceback (most recent call last)",
                        "\u001b[1;32m/Users/user/Development/sec-parser/docs/source/notebooks/user_guide.ipynb Cell 13\u001b[0m line \u001b[0;36m7\n\u001b[1;32m      <a href='vscode-notebook-cell:/Users/user/Development/sec-parser/docs/source/notebooks/user_guide.ipynb#X15sZmlsZQ%3D%3D?line=3'>4</a>\u001b[0m dl \u001b[39m=\u001b[39m Downloader(\u001b[39m\"\u001b[39m\u001b[39mMyCompanyName\u001b[39m\u001b[39m\"\u001b[39m, \u001b[39m\"\u001b[39m\u001b[39memail@example.com\u001b[39m\u001b[39m\"\u001b[39m)\n\u001b[1;32m      <a href='vscode-notebook-cell:/Users/user/Development/sec-parser/docs/source/notebooks/user_guide.ipynb#X15sZmlsZQ%3D%3D?line=5'>6</a>\u001b[0m \u001b[39m# Download the latest 10-Q filing for Apple\u001b[39;00m\n\u001b[0;32m----> <a href='vscode-notebook-cell:/Users/user/Development/sec-parser/docs/source/notebooks/user_guide.ipynb#X15sZmlsZQ%3D%3D?line=6'>7</a>\u001b[0m html \u001b[39m=\u001b[39m dl\u001b[39m.\u001b[39;49mget_latest_html(\u001b[39m\"\u001b[39;49m\u001b[39m10-Q\u001b[39;49m\u001b[39m\"\u001b[39;49m, \u001b[39m\"\u001b[39;49m\u001b[39mAAPL\u001b[39;49m\u001b[39m\"\u001b[39;49m)\n",
                        "File \u001b[0;32m~/Development/sec-parser/.venv/lib/python3.11/site-packages/sec_downloader/core.py:68\u001b[0m, in \u001b[0;36mDownloader.get_latest_html\u001b[0;34m(self, doc_type, ticker)\u001b[0m\n\u001b[1;32m     66\u001b[0m storage \u001b[39m=\u001b[39m DownloadStorage(filter_pattern\u001b[39m=\u001b[39mONLY_HTML)\n\u001b[1;32m     67\u001b[0m \u001b[39mwith\u001b[39;00m storage \u001b[39mas\u001b[39;00m path:\n\u001b[0;32m---> 68\u001b[0m     dl \u001b[39m=\u001b[39m SecEdgarDownloader(\u001b[39mself\u001b[39;49m\u001b[39m.\u001b[39;49mcompany_name, \u001b[39mself\u001b[39;49m\u001b[39m.\u001b[39;49memail_address, path)\n\u001b[1;32m     69\u001b[0m     dl\u001b[39m.\u001b[39mget(doc_type, ticker, limit\u001b[39m=\u001b[39m\u001b[39m1\u001b[39m, download_details\u001b[39m=\u001b[39m\u001b[39mTrue\u001b[39;00m)\n\u001b[1;32m     70\u001b[0m \u001b[39mreturn\u001b[39;00m storage\u001b[39m.\u001b[39mget_file_contents()[\u001b[39m0\u001b[39m]\u001b[39m.\u001b[39mcontent\n",
                        "File \u001b[0;32m~/Development/sec-parser/.venv/lib/python3.11/site-packages/sec_edgar_downloader/_Downloader.py:58\u001b[0m, in \u001b[0;36mDownloader.__init__\u001b[0;34m(self, company_name, email_address, download_folder)\u001b[0m\n\u001b[1;32m     55\u001b[0m \u001b[39melse\u001b[39;00m:\n\u001b[1;32m     56\u001b[0m     \u001b[39mself\u001b[39m\u001b[39m.\u001b[39mdownload_folder \u001b[39m=\u001b[39m Path(download_folder)\u001b[39m.\u001b[39mexpanduser()\u001b[39m.\u001b[39mresolve()\n\u001b[0;32m---> 58\u001b[0m \u001b[39mself\u001b[39m\u001b[39m.\u001b[39mticker_to_cik_mapping \u001b[39m=\u001b[39m get_ticker_to_cik_mapping(\u001b[39mself\u001b[39;49m\u001b[39m.\u001b[39;49muser_agent)\n",
                        "File \u001b[0;32m~/Development/sec-parser/.venv/lib/python3.11/site-packages/sec_edgar_downloader/_orchestrator.py:166\u001b[0m, in \u001b[0;36mget_ticker_to_cik_mapping\u001b[0;34m(user_agent)\u001b[0m\n\u001b[1;32m    165\u001b[0m \u001b[39mdef\u001b[39;00m \u001b[39mget_ticker_to_cik_mapping\u001b[39m(user_agent: \u001b[39mstr\u001b[39m) \u001b[39m-\u001b[39m\u001b[39m>\u001b[39m Dict[\u001b[39mstr\u001b[39m, \u001b[39mstr\u001b[39m]:\n\u001b[0;32m--> 166\u001b[0m     ticker_metadata \u001b[39m=\u001b[39m get_ticker_metadata(user_agent)\n\u001b[1;32m    167\u001b[0m     fields \u001b[39m=\u001b[39m ticker_metadata[\u001b[39m\"\u001b[39m\u001b[39mfields\u001b[39m\u001b[39m\"\u001b[39m]\n\u001b[1;32m    168\u001b[0m     ticker_data \u001b[39m=\u001b[39m ticker_metadata[\u001b[39m\"\u001b[39m\u001b[39mdata\u001b[39m\u001b[39m\"\u001b[39m]\n",
                        "File \u001b[0;32m~/Development/sec-parser/.venv/lib/python3.11/site-packages/sec_edgar_downloader/_sec_gateway.py:53\u001b[0m, in \u001b[0;36mget_ticker_metadata\u001b[0;34m(user_agent)\u001b[0m\n\u001b[1;32m     52\u001b[0m \u001b[39mdef\u001b[39;00m \u001b[39mget_ticker_metadata\u001b[39m(user_agent: \u001b[39mstr\u001b[39m) \u001b[39m-\u001b[39m\u001b[39m>\u001b[39m Any:\n\u001b[0;32m---> 53\u001b[0m     \u001b[39mreturn\u001b[39;00m _call_sec(URL_CIK_MAPPING, user_agent, HOST_WWW_SEC)\u001b[39m.\u001b[39mjson()\n",
                        "File \u001b[0;32m~/Development/sec-parser/.venv/lib/python3.11/site-packages/pyrate_limiter/limiter.py:318\u001b[0m, in \u001b[0;36mLimiter.as_decorator.<locals>.with_mapping_func.<locals>.decorator_wrapper.<locals>.wrapper\u001b[0;34m(*args, **kwargs)\u001b[0m\n\u001b[1;32m    315\u001b[0m accquire_ok \u001b[39m=\u001b[39m \u001b[39mself\u001b[39m\u001b[39m.\u001b[39mtry_acquire(name, weight)\n\u001b[1;32m    317\u001b[0m \u001b[39mif\u001b[39;00m \u001b[39mnot\u001b[39;00m isawaitable(accquire_ok):\n\u001b[0;32m--> 318\u001b[0m     \u001b[39mreturn\u001b[39;00m func(\u001b[39m*\u001b[39;49margs, \u001b[39m*\u001b[39;49m\u001b[39m*\u001b[39;49mkwargs)\n\u001b[1;32m    320\u001b[0m \u001b[39masync\u001b[39;00m \u001b[39mdef\u001b[39;00m \u001b[39m_handle_accquire_async\u001b[39m():\n\u001b[1;32m    321\u001b[0m     \u001b[39mnonlocal\u001b[39;00m accquire_ok\n",
                        "File \u001b[0;32m~/Development/sec-parser/.venv/lib/python3.11/site-packages/sec_edgar_downloader/_sec_gateway.py:32\u001b[0m, in \u001b[0;36m_call_sec\u001b[0;34m(uri, user_agent, host)\u001b[0m\n\u001b[1;32m     30\u001b[0m \u001b[39m@limiter\u001b[39m(limiter_mapping)\n\u001b[1;32m     31\u001b[0m \u001b[39mdef\u001b[39;00m \u001b[39m_call_sec\u001b[39m(uri: \u001b[39mstr\u001b[39m, user_agent: \u001b[39mstr\u001b[39m, host: \u001b[39mstr\u001b[39m) \u001b[39m-\u001b[39m\u001b[39m>\u001b[39m Response:\n\u001b[0;32m---> 32\u001b[0m     resp \u001b[39m=\u001b[39m requests\u001b[39m.\u001b[39;49mget(\n\u001b[1;32m     33\u001b[0m         uri,\n\u001b[1;32m     34\u001b[0m         headers\u001b[39m=\u001b[39;49m{\n\u001b[1;32m     35\u001b[0m             \u001b[39m*\u001b[39;49m\u001b[39m*\u001b[39;49mSTANDARD_HEADERS,\n\u001b[1;32m     36\u001b[0m             \u001b[39m\"\u001b[39;49m\u001b[39mUser-Agent\u001b[39;49m\u001b[39m\"\u001b[39;49m: user_agent,\n\u001b[1;32m     37\u001b[0m             \u001b[39m\"\u001b[39;49m\u001b[39mHost\u001b[39;49m\u001b[39m\"\u001b[39;49m: host,\n\u001b[1;32m     38\u001b[0m         },\n\u001b[1;32m     39\u001b[0m     )\n\u001b[1;32m     40\u001b[0m     resp\u001b[39m.\u001b[39mraise_for_status()\n\u001b[1;32m     41\u001b[0m     \u001b[39mreturn\u001b[39;00m resp\n",
                        "File \u001b[0;32m~/Development/sec-parser/.venv/lib/python3.11/site-packages/requests/api.py:73\u001b[0m, in \u001b[0;36mget\u001b[0;34m(url, params, **kwargs)\u001b[0m\n\u001b[1;32m     62\u001b[0m \u001b[39mdef\u001b[39;00m \u001b[39mget\u001b[39m(url, params\u001b[39m=\u001b[39m\u001b[39mNone\u001b[39;00m, \u001b[39m*\u001b[39m\u001b[39m*\u001b[39mkwargs):\n\u001b[1;32m     63\u001b[0m \u001b[39m    \u001b[39m\u001b[39mr\u001b[39m\u001b[39m\"\"\"Sends a GET request.\u001b[39;00m\n\u001b[1;32m     64\u001b[0m \n\u001b[1;32m     65\u001b[0m \u001b[39m    :param url: URL for the new :class:`Request` object.\u001b[39;00m\n\u001b[0;32m   (...)\u001b[0m\n\u001b[1;32m     70\u001b[0m \u001b[39m    :rtype: requests.Response\u001b[39;00m\n\u001b[1;32m     71\u001b[0m \u001b[39m    \"\"\"\u001b[39;00m\n\u001b[0;32m---> 73\u001b[0m     \u001b[39mreturn\u001b[39;00m request(\u001b[39m\"\u001b[39;49m\u001b[39mget\u001b[39;49m\u001b[39m\"\u001b[39;49m, url, params\u001b[39m=\u001b[39;49mparams, \u001b[39m*\u001b[39;49m\u001b[39m*\u001b[39;49mkwargs)\n",
                        "File \u001b[0;32m~/Development/sec-parser/.venv/lib/python3.11/site-packages/requests/api.py:59\u001b[0m, in \u001b[0;36mrequest\u001b[0;34m(method, url, **kwargs)\u001b[0m\n\u001b[1;32m     55\u001b[0m \u001b[39m# By using the 'with' statement we are sure the session is closed, thus we\u001b[39;00m\n\u001b[1;32m     56\u001b[0m \u001b[39m# avoid leaving sockets open which can trigger a ResourceWarning in some\u001b[39;00m\n\u001b[1;32m     57\u001b[0m \u001b[39m# cases, and look like a memory leak in others.\u001b[39;00m\n\u001b[1;32m     58\u001b[0m \u001b[39mwith\u001b[39;00m sessions\u001b[39m.\u001b[39mSession() \u001b[39mas\u001b[39;00m session:\n\u001b[0;32m---> 59\u001b[0m     \u001b[39mreturn\u001b[39;00m session\u001b[39m.\u001b[39;49mrequest(method\u001b[39m=\u001b[39;49mmethod, url\u001b[39m=\u001b[39;49murl, \u001b[39m*\u001b[39;49m\u001b[39m*\u001b[39;49mkwargs)\n",
                        "File \u001b[0;32m~/Development/sec-parser/.venv/lib/python3.11/site-packages/requests/sessions.py:589\u001b[0m, in \u001b[0;36mSession.request\u001b[0;34m(self, method, url, params, data, headers, cookies, files, auth, timeout, allow_redirects, proxies, hooks, stream, verify, cert, json)\u001b[0m\n\u001b[1;32m    584\u001b[0m send_kwargs \u001b[39m=\u001b[39m {\n\u001b[1;32m    585\u001b[0m     \u001b[39m\"\u001b[39m\u001b[39mtimeout\u001b[39m\u001b[39m\"\u001b[39m: timeout,\n\u001b[1;32m    586\u001b[0m     \u001b[39m\"\u001b[39m\u001b[39mallow_redirects\u001b[39m\u001b[39m\"\u001b[39m: allow_redirects,\n\u001b[1;32m    587\u001b[0m }\n\u001b[1;32m    588\u001b[0m send_kwargs\u001b[39m.\u001b[39mupdate(settings)\n\u001b[0;32m--> 589\u001b[0m resp \u001b[39m=\u001b[39m \u001b[39mself\u001b[39;49m\u001b[39m.\u001b[39;49msend(prep, \u001b[39m*\u001b[39;49m\u001b[39m*\u001b[39;49msend_kwargs)\n\u001b[1;32m    591\u001b[0m \u001b[39mreturn\u001b[39;00m resp\n",
                        "File \u001b[0;32m~/Development/sec-parser/.venv/lib/python3.11/site-packages/requests/sessions.py:703\u001b[0m, in \u001b[0;36mSession.send\u001b[0;34m(self, request, **kwargs)\u001b[0m\n\u001b[1;32m    700\u001b[0m start \u001b[39m=\u001b[39m preferred_clock()\n\u001b[1;32m    702\u001b[0m \u001b[39m# Send the request\u001b[39;00m\n\u001b[0;32m--> 703\u001b[0m r \u001b[39m=\u001b[39m adapter\u001b[39m.\u001b[39;49msend(request, \u001b[39m*\u001b[39;49m\u001b[39m*\u001b[39;49mkwargs)\n\u001b[1;32m    705\u001b[0m \u001b[39m# Total elapsed time of the request (approximately)\u001b[39;00m\n\u001b[1;32m    706\u001b[0m elapsed \u001b[39m=\u001b[39m preferred_clock() \u001b[39m-\u001b[39m start\n",
                        "File \u001b[0;32m~/Development/sec-parser/.venv/lib/python3.11/site-packages/requests/adapters.py:519\u001b[0m, in \u001b[0;36mHTTPAdapter.send\u001b[0;34m(self, request, stream, timeout, verify, cert, proxies)\u001b[0m\n\u001b[1;32m    515\u001b[0m     \u001b[39mif\u001b[39;00m \u001b[39misinstance\u001b[39m(e\u001b[39m.\u001b[39mreason, _SSLError):\n\u001b[1;32m    516\u001b[0m         \u001b[39m# This branch is for urllib3 v1.22 and later.\u001b[39;00m\n\u001b[1;32m    517\u001b[0m         \u001b[39mraise\u001b[39;00m SSLError(e, request\u001b[39m=\u001b[39mrequest)\n\u001b[0;32m--> 519\u001b[0m     \u001b[39mraise\u001b[39;00m \u001b[39mConnectionError\u001b[39;00m(e, request\u001b[39m=\u001b[39mrequest)\n\u001b[1;32m    521\u001b[0m \u001b[39mexcept\u001b[39;00m ClosedPoolError \u001b[39mas\u001b[39;00m e:\n\u001b[1;32m    522\u001b[0m     \u001b[39mraise\u001b[39;00m \u001b[39mConnectionError\u001b[39;00m(e, request\u001b[39m=\u001b[39mrequest)\n",
                        "\u001b[0;31mConnectionError\u001b[0m: HTTPSConnectionPool(host='www.sec.gov', port=443): Max retries exceeded with url: /files/company_tickers_exchange.json (Caused by NewConnectionError('<urllib3.connection.HTTPSConnection object at 0x105cd0610>: Failed to establish a new connection: [Errno 61] Connection refused'))"
                    ]
                }
            ],
            "source": [
                "from sec_downloader import Downloader\n",
                "\n",
                "# Initialize the downloader with your company name and email\n",
                "dl = Downloader(\"MyCompanyName\", \"email@example.com\")\n",
                "\n",
                "# Download the latest 10-Q filing for Apple\n",
                "html = dl.get_latest_html(\"10-Q\", \"AAPL\")"
            ]
        },
        {
            "attachments": {},
            "cell_type": "markdown",
            "metadata": {},
            "source": [
                "> **Note**\n",
                "The company name and email address are used to form a user-agent string that adheres to the SEC EDGAR's fair access policy for programmatic downloading. [Source](https://www.sec.gov/os/webmaster-faq#code-support)"
            ]
        },
        {
            "attachments": {},
            "cell_type": "markdown",
            "metadata": {},
            "source": [
                "Now, we can parse the filing into semantic elements and arrange them into a tree structure:"
            ]
        },
        {
            "cell_type": "code",
            "execution_count": null,
            "metadata": {},
            "outputs": [
                {
                    "name": "stdout",
                    "output_type": "stream",
                    "text": [
                        "\u001b[1;34mTitleElement\u001b[1;92m[L3]\u001b[0m\u001b[0m: Segment Operating Performance\n",
                        "├── \u001b[1;34mTextElement\u001b[0m: The following table sho... (dollars in millions):\n",
                        "├── \u001b[1;34mTableElement\u001b[0m: Table with 7 rows, 40 numbers, and 414 characters.\n",
                        "├── \u001b[1;34mTitleElement\u001b[1;92m[L4]\u001b[0m\u001b[0m: Americas\n",
                        "│   └── \u001b[1;34mTextElement\u001b[0m: Americas net sales decr... net sales of Services.\n",
                        "├── \u001b[1;34mTitleElement\u001b[1;92m[L4]\u001b[0m\u001b[0m: Europe\n",
                        "│   └── \u001b[1;34mTextElement\u001b[0m: The weakness in foreign...er net sales of iPhone.\n",
                        "├── \u001b[1;34mTitleElement\u001b[1;92m[L4]\u001b[0m\u001b[0m: Greater China\n",
                        "│   └── \u001b[1;34mTextElement\u001b[0m: The weakness in the ren...er net sales of iPhone.\n",
                        "├── \u001b[1;34mTitleElement\u001b[1;92m[L4]\u001b[0m\u001b[0m: Japan\n",
                        "│   └── \u001b[1;34mTextElement\u001b[0m: The weakness in the yen..., Home and Accessories.\n",
                        "└── \u001b[1;34mTitleElement\u001b[1;92m[L4]\u001b[0m\u001b[0m: Rest of Asia Pacific\n",
                        "    ├── \u001b[1;34mTextElement\u001b[0m: The weakness in foreign...lower net sales of Mac....\n"
                    ]
                }
            ],
            "source": [
                "import sec_parser as sp\n",
                "\n",
                "# Parse the HTML into a list of semantic elements\n",
                "elements = sp.Edgar10QParser().parse(html)\n",
                "\n",
                "# Construct a semantic tree to allow for easy filtering by section\n",
                "tree = sp.TreeBuilder().build(elements)\n",
                "\n",
                "# Find section \"Segment Operating Performance\"\n",
                "section = [n for n in tree.nodes if n.text.startswith(\"Segment\")][0]\n",
                "\n",
                "# Preview the tree\n",
                "print(\"\\n\".join(sp.render(section).split(\"\\n\")[:13]) + \"...\")"
            ]
        },
        {
            "attachments": {},
            "cell_type": "markdown",
            "metadata": {},
            "source": [
                "### Advanced Usage"
            ]
        },
        {
            "attachments": {},
            "cell_type": "markdown",
            "metadata": {},
            "source": [
                "Processing is organized in steps. You can modify, add, remove steps as needed. Each step is a function that takes a list of elements as input and returns a list of elements as output. The output of one step is the input of the next step."
            ]
        },
        {
            "cell_type": "code",
            "execution_count": null,
            "metadata": {},
            "outputs": [
                {
                    "name": "stdout",
                    "output_type": "stream",
                    "text": [
                        "Step 1: CompositeElementCreator\n",
                        "Step 2: ImageClassifier\n",
                        "Step 3: TableClassifier\n",
                        "Step 4: TextClassifier\n",
                        "Step 5: HighlightedTextClassifier\n",
                        "Step 6: SupplementaryTextClassifier\n",
                        "Step 7: TopLevelSectionTitleClassifier\n",
                        "Step 8: PreTopLevelSectionPruner\n",
                        "Step 9: TitleClassifier\n",
                        "Step 10: IrrelevantElementClassifier\n"
                    ]
                }
            ],
            "source": [
                "steps = sp.Edgar10QParser().get_default_steps()\n",
                "\n",
                "for i, step in enumerate(steps, 1):\n",
                "    print(f\"Step {i}: {step.__class__.__name__}\")"
            ]
        },
        {
            "attachments": {},
            "cell_type": "markdown",
            "metadata": {},
            "source": [
                "Let's illustrate an example where we replace the text element classifier with our custom classifier. This custom classifier is designed to identify, which elements match our custom element description:"
            ]
        },
        {
            "cell_type": "code",
            "execution_count": null,
            "metadata": {},
            "outputs": [
                {
                    "name": "stdout",
                    "output_type": "stream",
                    "text": [
                        "Step 1: CompositeElementCreator\n",
                        "Step 2: ImageClassifier\n",
                        "Step 3: TableClassifier\n",
                        "Step 4: MyClassifier\n",
                        "Step 5: HighlightedTextClassifier\n",
                        "Step 6: SupplementaryTextClassifier\n",
                        "Step 7: TopLevelSectionTitleClassifier\n",
                        "Step 8: PreTopLevelSectionPruner\n",
                        "Step 9: TitleClassifier\n",
                        "Step 10: IrrelevantElementClassifier\n"
                    ]
                }
            ],
            "source": [
                "from sec_parser.processing_steps import TextClassifier\n",
                "\n",
                "\n",
                "# Create a custom element class\n",
                "class MyElement(sp.TextElement):\n",
                "    pass\n",
                "\n",
                "\n",
                "# Create a custom parsing step\n",
                "class MyClassifier(TextClassifier):\n",
                "    def _process_element(self, element, context):\n",
                "        if element.text != \"\":\n",
                "            return MyElement.create_from_element(element, log_origin=\"MyClassifier\")\n",
                "\n",
                "        # Let the parent class handle the other cases\n",
                "        return super()._process_element(element, context)\n",
                "\n",
                "\n",
                "# Replace the default text parsing step with our custom one\n",
                "steps = [MyClassifier() if isinstance(step, TextClassifier) else step for step in steps]\n",
                "for i, step in enumerate(steps, 1):\n",
                "    print(f\"Step {i}: {step.__class__.__name__}\")"
            ]
        },
        {
            "attachments": {},
            "cell_type": "markdown",
            "metadata": {},
            "source": [
                "As demonstrated above, our custom classifier is now integrated into the pipeline. \n",
                "\n",
                "There's an additional caveat to consider. Without specifying an \"allowlist\" of types, TableElement will be classified as TextElement, as it contains text. To prevent this, we will process only `NotYetClassifiedElement` types and bypass processing for all other types.\n"
            ]
        },
        {
            "cell_type": "code",
            "execution_count": null,
            "metadata": {},
            "outputs": [
                {
                    "name": "stdout",
                    "output_type": "stream",
                    "text": [
                        "\u001b[1;34mTitleElement\u001b[1;92m[L3]\u001b[0m\u001b[0m: Segment Operating Performance\n",
                        "├── \u001b[1;34mMyElement\u001b[0m: The following table sho... (dollars in millions):\n",
                        "├── \u001b[1;34mTableElement\u001b[0m: Table with 7 rows, 40 numbers, and 414 characters.\n",
                        "├── \u001b[1;34mTitleElement\u001b[1;92m[L4]\u001b[0m\u001b[0m: Americas\n",
                        "│   └── \u001b[1;34mMyElement\u001b[0m: Americas net sales decr... net sales of Services.\n",
                        "├── \u001b[1;34mTitleElement\u001b[1;92m[L4]\u001b[0m\u001b[0m: Europe\n",
                        "│   └── \u001b[1;34mMyElement\u001b[0m: The weakness in foreign...er net sales of iPhone.\n",
                        "├── \u001b[1;34mTitleElement\u001b[1;92m[L4]\u001b[0m\u001b[0m: Greater China\n",
                        "│   └── \u001b[1;34mMyElement\u001b[0m: The weakness in the ren...er net sales of iPhone.\n",
                        "├── \u001b[1;34mTitleElement\u001b[1;92m[L4]\u001b[0m\u001b[0m: Japan\n",
                        "│   └── \u001b[1;34mMyElement\u001b[0m: The weakness in the yen..., Home and Accessories.\n",
                        "└── \u001b[1;34mTitleElement\u001b[1;92m[L4]\u001b[0m\u001b[0m: Rest of Asia Pacific\n",
                        "    ├── \u001b[1;34mMyElement\u001b[0m: The weakness in foreign...lower net sales of Mac....\n"
                    ]
                }
            ],
            "source": [
                "def get_steps():\n",
                "    return [\n",
                "        MyClassifier(types_to_process={sp.NotYetClassifiedElement})\n",
                "        if isinstance(step, TextClassifier)\n",
                "        else step\n",
                "        for step in sp.Edgar10QParser().get_default_steps()\n",
                "    ]\n",
                "\n",
                "\n",
                "elements = sp.Edgar10QParser(get_steps).parse(html)\n",
                "tree = sp.TreeBuilder().build(elements)\n",
                "section = [n for n in tree.nodes if n.text.startswith(\"Segment\")][0]\n",
                "print(\"\\n\".join(sp.render(section).split(\"\\n\")[:13]) + \"...\")"
            ]
        },
        {
            "attachments": {},
            "cell_type": "markdown",
            "metadata": {},
            "source": [
                "For more examples and advanced usage, you can continue learning how to use `sec-parser` by referring to the [**Developer Guide**](https://sec-parser.readthedocs.io/en/latest/notebooks/developer_guide.html) and [**Documentation**](https://sec-parser.rtfd.io). If you're interested in contributing, consider checking out our [**Contribution Guide**](https://github.com/alphanome-ai/sec-parser/blob/main/CONTRIBUTING.md)."
            ]
        },
        {
            "attachments": {},
            "cell_type": "markdown",
            "metadata": {},
            "source": [
                "## What's Next?\n",
                "\n",
                "You've successfully parsed an SEC document into semantic elements and arranged them into a tree structure. To further analyze this data with analytics or AI, you can use any tool of your choice.\n",
                "\n",
                "For a tailored experience, consider using our free and open-source library for AI-powered financial analysis: \n",
                "\n",
                "[**Explore sec-ai on GitHub**](https://github.com/alphanome-ai/sec-ai)\n",
                "\n",
                "```bash\n",
                "pip install sec-ai\n",
                "```"
            ]
        }
    ],
    "metadata": {
        "kernelspec": {
            "display_name": ".venv",
            "language": "python",
            "name": "python3"
        },
        "language_info": {
            "codemirror_mode": {
                "name": "ipython",
                "version": 3
            },
            "file_extension": ".py",
            "mimetype": "text/x-python",
            "name": "python",
            "nbconvert_exporter": "python",
            "pygments_lexer": "ipython3",
            "version": "3.11.4"
        },
        "orig_nbformat": 4
    },
    "nbformat": 4,
    "nbformat_minor": 2
}
